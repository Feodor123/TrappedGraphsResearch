{
 "cells": [
  {
   "cell_type": "code",
   "execution_count": 16,
   "metadata": {},
   "outputs": [],
   "source": [
    "%run Graph.ipynb"
   ]
  },
  {
   "cell_type": "code",
   "execution_count": 17,
   "metadata": {},
   "outputs": [
    {
     "data": {
      "text/plain": [
       "1"
      ]
     },
     "execution_count": 17,
     "metadata": {},
     "output_type": "execute_result"
    }
   ],
   "source": [
    "g = Graph(2)\n",
    "g.setAdjMatrix(np.array([\n",
    "    [0,1],\n",
    "    [0,0],\n",
    "]))\n",
    "assert len(g.nodesByNum[0].to) == 1"
   ]
  },
  {
   "cell_type": "code",
   "execution_count": 21,
   "metadata": {},
   "outputs": [],
   "source": [
    "g = Graph(4)\n",
    "g.setAdjMatrix(np.array([\n",
    "    [0,1,0,0],\n",
    "    [1,0,0,0],\n",
    "    [0,1,0,0],\n",
    "    [0,0,0,0],\n",
    "]))\n",
    "operations = [((0,1),(1,2)), ((0,1),(2,3))]\n",
    "assert isTrapped(g, operations)"
   ]
  },
  {
   "cell_type": "code",
   "execution_count": 20,
   "metadata": {},
   "outputs": [],
   "source": [
    "g = Graph(4)\n",
    "g.setAdjMatrix(np.array([\n",
    "    [0,1,0,0],\n",
    "    [1,0,0,0],\n",
    "    [0,1,0,0],\n",
    "    [0,0,0,0],\n",
    "]))\n",
    "operations = [((0,1),(2,2)), ((0,1),(2,3))]\n",
    "assert not isTrapped(g, operations)"
   ]
  },
  {
   "cell_type": "code",
   "execution_count": 22,
   "metadata": {},
   "outputs": [],
   "source": [
    "g = Graph(4)\n",
    "g.setAdjMatrix(np.array([\n",
    "    [0,1,0,0],\n",
    "    [1,0,0,0],\n",
    "    [0,1,0,0],\n",
    "    [0,0,0,0],\n",
    "]))\n",
    "operations = [((0,1),(1,2)), ((0,1),(2,2))]\n",
    "assert not isTrapped(g, operations)"
   ]
  },
  {
   "cell_type": "code",
   "execution_count": null,
   "metadata": {},
   "outputs": [],
   "source": []
  }
 ],
 "metadata": {
  "kernelspec": {
   "display_name": "Python [conda env:pytorch2]",
   "language": "python",
   "name": "conda-env-pytorch2-py"
  },
  "language_info": {
   "codemirror_mode": {
    "name": "ipython",
    "version": 3
   },
   "file_extension": ".py",
   "mimetype": "text/x-python",
   "name": "python",
   "nbconvert_exporter": "python",
   "pygments_lexer": "ipython3",
   "version": "3.9.7"
  }
 },
 "nbformat": 4,
 "nbformat_minor": 2
}
